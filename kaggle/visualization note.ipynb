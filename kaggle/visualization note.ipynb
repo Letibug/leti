{
 "cells": [
  {
   "cell_type": "code",
   "execution_count": 19,
   "metadata": {
    "collapsed": true
   },
   "outputs": [],
   "source": [
    "import seaborn as sns\n",
    "import matplotlib.pyplot as plt\n",
    "%matplotlib inline\n",
    "import pandas as pd"
   ]
  },
  {
   "cell_type": "code",
   "execution_count": 14,
   "metadata": {
    "collapsed": false
   },
   "outputs": [
    {
     "data": {
      "text/plain": [
       "survived          int64\n",
       "pclass            int64\n",
       "sex              object\n",
       "age             float64\n",
       "sibsp             int64\n",
       "parch             int64\n",
       "fare            float64\n",
       "embarked         object\n",
       "class          category\n",
       "who              object\n",
       "adult_male         bool\n",
       "deck           category\n",
       "embark_town      object\n",
       "alive            object\n",
       "alone              bool\n",
       "dtype: object"
      ]
     },
     "execution_count": 14,
     "metadata": {},
     "output_type": "execute_result"
    }
   ],
   "source": [
    "df=sns.load_dataset('titanic')\n",
    "df.dtypes"
   ]
  },
  {
   "cell_type": "code",
   "execution_count": 13,
   "metadata": {
    "collapsed": false
   },
   "outputs": [
    {
     "data": {
      "text/plain": [
       "total_bill     float64\n",
       "tip            float64\n",
       "sex           category\n",
       "smoker        category\n",
       "day           category\n",
       "time          category\n",
       "size             int64\n",
       "dtype: object"
      ]
     },
     "execution_count": 13,
     "metadata": {},
     "output_type": "execute_result"
    }
   ],
   "source": [
    "df2=sns.load_dataset('tips')\n",
    "df2.dtypes"
   ]
  },
  {
   "cell_type": "markdown",
   "metadata": {},
   "source": [
    "_______________________________________________________________________________________________________________________________\n",
    "## Seaborn\n",
    "\n",
    "### Categorical plots\n",
    "- sns.countplot ----*sns.countplot(df.sex);    sns.countplot(y='sex', data=df, hue='who')*\n",
    "- sns.barplot ----- *sns.barplot(x=\"sex\", y=\"survived\", data=df)*\n",
    "- sns.boxplot  -----*sns.boxplot(x=\"sex\", y=\"survived\", data=df)*\n",
    "- sns.pointplot ----*sns.pointplot(x=\"time\", y=\"total_bill\", data=tips)*\n",
    "- sns.violinplot ----*sns.violinplot(x=\"day\", y=\"total_bill\", data=tips)*\n",
    "\n",
    "### Distribution plots\n",
    "- sns.distplot  -----*sns.distplot(x)*\n",
    "- sns.kdeplot  ---*sns.kdeplot(x, shade=True, color=\"r\")*\n",
    "\n",
    "### Axis grids\n",
    "- sns.FacetGrid *----g=sns.FacetGrid(tips, col=\"time\",  row=\"smoker\"); g.map(plt.scatter, \"total_bill\", \"tip\", edgecolor=\"w\")*\n",
    "- sns.factorplot ----*sns.factorplot(x=\"who\", y=\"survived\", col=\"class\", data=titanic, saturation=.5, kind=\"bar\", aspect=.6)*\n",
    "- sns.pairplot  --- *sns.pairplot(iris)*\n",
    "- sns.joinplot ---- *sns.jointplot(x=\"total_bill\", y=\"tip\", data=tips)*\n",
    "- sns.lmplot ----- *sns.lmplot(x=\"total_bill\", y=\"tip\", hue=\"smoker\", data=tips,markers=[\"o\", \"x\"])*\n",
    "\n",
    "### Other\n",
    "- sns.heatmap\n",
    "- sns.set_style('whitegrid')"
   ]
  },
  {
   "cell_type": "markdown",
   "metadata": {},
   "source": [
    "---------------------------------------------------------------------------------------------------------------\n",
    "## Matplotlib.pyplot\n",
    "- plt.axhline ------ *plt.axhline(y=1, color='r')*\n",
    "- plt.axvline -------*plt.axvline(x=0.5, linewidth=4)*\n",
    "- plt.hlines\n",
    "- plt.vlines\n",
    "- plt.bar \n",
    "- plt.barh\n",
    "- plt.boxplot\n",
    "- plt.hist\n",
    "- plt.pie\n",
    "- plt.plot\n",
    "- plt.scatter\n",
    "- plt.annotate\n",
    "- plt.arrow\n",
    "- plt.violinplot\n",
    "\n",
    "\n",
    "- plt.figure\n",
    "- plt.subplot\n",
    "- plt.subplots\n",
    "- plt.savefig\n",
    "- plt.show\n",
    "- plt.tightlayout\n",
    "- plt.imshow\n",
    "- plt.imread\n",
    "\n",
    "\n",
    "\n",
    "- plt.axis\n",
    "- plt.xlabel\n",
    "- plt.xlim\n",
    "- plt.xscale\n",
    "- plt.xticks\n",
    "- plt.ylabel\n",
    "- plt.ylim\n",
    "- plt.yscale\n",
    "- plt.yticks\n",
    "- plt.legend\n",
    "- plt.text\n",
    "- plt.title\n"
   ]
  },
  {
   "cell_type": "markdown",
   "metadata": {},
   "source": [
    "___________________________________________________________________________________________________\n",
    "## Pandas visualization\n",
    "### Basic plotting\n",
    "- df.plot  = *plt.plot*\n",
    "- df.plot(kind='bar' / 'barh' / 'hist' / 'box' / 'kde' / 'area' / 'scatter' / 'pie' / 'hexbin')\n",
    "- df.plot.area\n",
    "- df.plot.barh\n",
    "- df.plot.bar\n",
    "- df.plot.density\n",
    "- df.plot.hist\n",
    "- df.plot.line\n",
    "- df.plot.scatter\n",
    "- df.plot.box\n",
    "- df.plot.hexbin\n",
    "- df.plot.kde\n",
    "- df.plot.pie\n",
    "\n",
    "### Plotting tools\n",
    "- scatter_matrix(df, alpha=0.2, figsize=(6,6),diagonal='kde')\n",
    "- parallel_coordinates(df, 'Name')\n"
   ]
  },
  {
   "cell_type": "code",
   "execution_count": null,
   "metadata": {
    "collapsed": true
   },
   "outputs": [],
   "source": []
  }
 ],
 "metadata": {
  "kernelspec": {
   "display_name": "Python 3",
   "language": "python",
   "name": "python3"
  },
  "language_info": {
   "codemirror_mode": {
    "name": "ipython",
    "version": 3
   },
   "file_extension": ".py",
   "mimetype": "text/x-python",
   "name": "python",
   "nbconvert_exporter": "python",
   "pygments_lexer": "ipython3",
   "version": "3.6.1"
  }
 },
 "nbformat": 4,
 "nbformat_minor": 2
}
